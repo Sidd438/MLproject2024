{
 "cells": [
  {
   "cell_type": "markdown",
   "metadata": {},
   "source": [
    "# One-class Classification : Isolation Forest (iForest)"
   ]
  },
  {
   "cell_type": "code",
   "execution_count": 19,
   "metadata": {},
   "outputs": [],
   "source": [
    "import numpy as np\n",
    "import pandas as pd\n",
    "from sklearn.model_selection import train_test_split\n",
    "from sklearn.metrics import confusion_matrix, ConfusionMatrixDisplay, accuracy_score, precision_score, recall_score, f1_score\n",
    "from matplotlib import pyplot as plt\n",
    "from tqdm import tqdm\n",
    "import time"
   ]
  },
  {
   "cell_type": "code",
   "execution_count": 20,
   "metadata": {},
   "outputs": [],
   "source": [
    "#Default hyperparameters#\n",
    "N_TREES=100\n",
    "HEIGHT_LIMIT=10\n",
    "#########################"
   ]
  },
  {
   "cell_type": "markdown",
   "metadata": {},
   "source": [
    "### Isolation Forest Classification : Algorithm"
   ]
  },
  {
   "cell_type": "code",
   "execution_count": 21,
   "metadata": {},
   "outputs": [],
   "source": [
    "np.random.seed(0)\n",
    "\n",
    "def normalizer(size):\n",
    "    if size == 2:\n",
    "        return 1\n",
    "    elif size > 2:\n",
    "        return 2 * (np.log(size - 1) + 0.5772156649) - 2 * (size - 1) / size\n",
    "    return 0\n",
    "\n",
    "\n",
    "class IsolationTree:\n",
    "\n",
    "    def __init__(self, height_limit, current_height=0):\n",
    "        self.height_limit = height_limit\n",
    "        self.current_height = current_height\n",
    "        self.split_by = None\n",
    "        self.split_value = None\n",
    "        self.left = None\n",
    "        self.right = None\n",
    "    \n",
    "    def fit(self, X):\n",
    "        if self.current_height >= self.height_limit or X.shape[0] <= 1:\n",
    "            return self\n",
    "        n_samples, n_features = X.shape\n",
    "        self.split_by = np.random.choice(n_features)\n",
    "        self.split_value = np.random.uniform(X[:, self.split_by].min(), X[:, self.split_by].max())\n",
    "        left = X[X[:, self.split_by] < self.split_value]\n",
    "        right = X[X[:, self.split_by] >= self.split_value]\n",
    "        # print(left.shape, right.shape, X.shape, self.current_height, self.height_limit)\n",
    "        self.left = IsolationTree(self.height_limit, self.current_height + 1).fit(left)\n",
    "        self.right = IsolationTree(self.height_limit, self.current_height + 1).fit(right)\n",
    "        return self\n",
    "\n",
    "    def predict(self, X):\n",
    "        if self.current_height >= self.height_limit:\n",
    "            return np.ones(X.shape[0])\n",
    "        return (X[:, self.split_by] < self.split_value) * self.left.predict(X) + (X[:, self.split_by] >= self.split_value) * self.right.predict(X)\n",
    "    \n",
    "    def path_length(self, X, current_height=0):\n",
    "        if self.current_height >= self.height_limit or X.shape[0] <= 1 or self.split_value is None:\n",
    "            return np.full(X.shape[0], current_height)\n",
    "        ans = np.zeros(X.shape[0])\n",
    "        ans[X[:, self.split_by] < self.split_value] = self.left.path_length(X[X[:, self.split_by] < self.split_value], current_height + 1)\n",
    "        ans[X[:, self.split_by] >= self.split_value] = self.right.path_length(X[X[:, self.split_by] >= self.split_value], current_height + 1)\n",
    "        return ans\n",
    "\n",
    "\n",
    "class IsolationForest:\n",
    "\n",
    "    def __init__(self, n_trees=N_TREES, height_limit=HEIGHT_LIMIT):\n",
    "        self.n_trees = n_trees\n",
    "        self.height_limit = height_limit\n",
    "        self.trees = []\n",
    "\n",
    "    def fit(self, X):\n",
    "        self.len = X.shape[0]\n",
    "        self.trees = [IsolationTree(self.height_limit).fit(X) for _ in tqdm(range(self.n_trees), desc='Fitting Trees')]\n",
    "        return self\n",
    "    \n",
    "    def predict(self, X):\n",
    "        return np.mean([tree.predict(X) for tree in self.trees], axis=0)\n",
    "    \n",
    "    def path_length(self, X, desc='Calculating Path Length'):\n",
    "        return np.mean([tree.path_length(X) for tree in tqdm(self.trees, desc=desc)], axis=0)\n",
    "    \n",
    "    def anomaly_score(self, X, desc):\n",
    "        return 2 ** (-self.path_length(X, desc) / normalizer(self.len))"
   ]
  },
  {
   "cell_type": "markdown",
   "metadata": {},
   "source": [
    "### Evaluation function"
   ]
  },
  {
   "cell_type": "code",
   "execution_count": 22,
   "metadata": {},
   "outputs": [],
   "source": [
    "def evaluate(csv_file_path,ycolname):\n",
    "    df = pd.read_csv(csv_file_path)\n",
    "    time_start = time.time()   \n",
    "    trainx, testx, trainy, testy = train_test_split(df.drop([ycolname], axis=1).values, df[ycolname].values, test_size=0.2,random_state=42)\n",
    "    iforest = IsolationForest(n_trees=N_TREES, height_limit=HEIGHT_LIMIT).fit(trainx[trainy==0])\n",
    "    anomaly_train = iforest.anomaly_score(trainx, desc='Calculating Training Path Length')\n",
    "    anomaly_in = anomaly_train[trainy==0]\n",
    "    anomaly_out = anomaly_train[trainy>0]\n",
    "    print(\"Train Inlier anomaly score:\",np.mean(anomaly_in))\n",
    "    print(\"Train Outlier anomaly score:\",np.mean(anomaly_out))\n",
    "    anomaly_test = iforest.anomaly_score(testx, desc='Calculating Test Path Length')\n",
    "    testy_pred = np.where(anomaly_test > (np.mean(anomaly_in)+np.mean(anomaly_out))/2, 1, 0)\n",
    "    #show confusion matrix to check directional accuracy\n",
    "    cm = confusion_matrix(testy>0, testy_pred>0)\n",
    "    disp = ConfusionMatrixDisplay(confusion_matrix=cm,display_labels=['Inlier','Outlier'])\n",
    "    disp.plot()\n",
    "    print(\"\\nOutlier predictions:\",np.sum(testy_pred>0))\n",
    "    print(\"Inlier predictions:\",np.sum(testy_pred<=0))\n",
    "    print(\"Outlier actuals:\",np.sum(testy>0))\n",
    "    print(\"Inlier actuals:\",np.sum(testy<=0))\n",
    "    print(f'Accuracy score: {accuracy_score(testy>0, testy_pred>0) :>.3%}')\n",
    "    print(f'Precision score: {precision_score(testy>0, testy_pred>0) :>.3%}')\n",
    "    print(f'Recall score: {recall_score(testy>0, testy_pred>0) :>.3%}')\n",
    "    print(f'F1 score: {f1_score(testy>0, testy_pred>0) :>.3%}')\n",
    "    time_end = time.time()\n",
    "    print(\"Time taken:\",time_end-time_start)\n",
    "    plt.show()"
   ]
  },
  {
   "cell_type": "markdown",
   "metadata": {},
   "source": [
    "### Evaluation on Dataset 1 : 'http.csv'"
   ]
  },
  {
   "cell_type": "code",
   "execution_count": 23,
   "metadata": {},
   "outputs": [
    {
     "name": "stderr",
     "output_type": "stream",
     "text": [
      "Fitting Trees: 100%|██████████| 100/100 [00:10<00:00,  9.44it/s]\n",
      "Calculating Training Path Length: 100%|██████████| 100/100 [00:13<00:00,  7.51it/s]\n"
     ]
    },
    {
     "name": "stdout",
     "output_type": "stream",
     "text": [
      "Train Inlier anomaly score: 0.7595183415886935\n",
      "Train Outlier anomaly score: 0.7867716531035541\n"
     ]
    },
    {
     "name": "stderr",
     "output_type": "stream",
     "text": [
      "Calculating Test Path Length: 100%|██████████| 100/100 [00:03<00:00, 27.51it/s]\n"
     ]
    },
    {
     "name": "stdout",
     "output_type": "stream",
     "text": [
      "\n",
      "Outlier predictions: 462\n",
      "Inlier predictions: 113038\n",
      "Outlier actuals: 445\n",
      "Inlier actuals: 113055\n",
      "Accuracy score: 99.981%\n",
      "Precision score: 95.887%\n",
      "Recall score: 99.551%\n",
      "F1 score: 97.685%\n",
      "Time taken: 27.940002918243408\n"
     ]
    },
    {
     "data": {
      "image/png": "[encoded data removed]",
      "text/plain": [
       "<Figure size 640x480 with 2 Axes>"
      ]
     },
     "metadata": {},
     "output_type": "display_data"
    }
   ],
   "source": [
    "#Application-specific hyperparameters#\n",
    "N_TREES=100\n",
    "HEIGHT_LIMIT=10\n",
    "######################################\n",
    "\n",
    "evaluate('http.csv','attack')"
   ]
  },
  {
   "cell_type": "markdown",
   "metadata": {},
   "source": [
    "### Evaluation on Dataset 2 : 'cancer.csv'"
   ]
  },
  {
   "cell_type": "code",
   "execution_count": 24,
   "metadata": {},
   "outputs": [
    {
     "name": "stderr",
     "output_type": "stream",
     "text": [
      "Fitting Trees:   0%|          | 0/100 [00:00<?, ?it/s]"
     ]
    },
    {
     "name": "stderr",
     "output_type": "stream",
     "text": [
      "Fitting Trees: 100%|██████████| 100/100 [00:00<00:00, 278.75it/s]\n",
      "Calculating Training Path Length: 100%|██████████| 100/100 [00:00<00:00, 629.79it/s]\n"
     ]
    },
    {
     "name": "stdout",
     "output_type": "stream",
     "text": [
      "Train Inlier anomaly score: 0.534812247655082\n",
      "Train Outlier anomaly score: 0.6315572819142257\n"
     ]
    },
    {
     "name": "stderr",
     "output_type": "stream",
     "text": [
      "Calculating Test Path Length: 100%|██████████| 100/100 [00:00<00:00, 1178.73it/s]\n"
     ]
    },
    {
     "name": "stdout",
     "output_type": "stream",
     "text": [
      "\n",
      "Outlier predictions: 44\n",
      "Inlier predictions: 70\n",
      "Outlier actuals: 43\n",
      "Inlier actuals: 71\n",
      "Accuracy score: 90.351%\n",
      "Precision score: 86.364%\n",
      "Recall score: 88.372%\n",
      "F1 score: 87.356%\n",
      "Time taken: 0.635157585144043\n"
     ]
    },
    {
     "data": {
      "image/png": "[encoded data removed]",
      "text/plain": [
       "<Figure size 640x480 with 2 Axes>"
      ]
     },
     "metadata": {},
     "output_type": "display_data"
    }
   ],
   "source": [
    "#Application-specific hyperparameters#\n",
    "N_TREES=100\n",
    "HEIGHT_LIMIT=10\n",
    "######################################\n",
    "\n",
    "evaluate('cancer.csv','diagnosis')"
   ]
  }
 ],
 "metadata": {
  "kernelspec": {
   "display_name": "MachineLearning",
   "language": "python",
   "name": "python3"
  },
  "language_info": {
   "codemirror_mode": {
    "name": "ipython",
    "version": 3
   },
   "file_extension": ".py",
   "mimetype": "text/x-python",
   "name": "python",
   "nbconvert_exporter": "python",
   "pygments_lexer": "ipython3",
   "version": "3.12.2"
  }
 },
 "nbformat": 4,
 "nbformat_minor": 2
}
