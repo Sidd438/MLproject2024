{
 "cells": [
  {
   "cell_type": "code",
   "execution_count": 27,
   "metadata": {},
   "outputs": [
    {
     "name": "stdout",
     "output_type": "stream",
     "text": [
      "Outlier predictions: 452\n",
      "Inlier predictions: 113048\n",
      "Outlier actuals: 442\n",
      "Inlier actuals: 113058\n",
      "Accuracy score: 99.989%\n",
      "F1 score: 0.987\n",
      "Time taken: 9.952725410461426\n"
     ]
    },
    {
     "data": {
      "image/png": "[encoded data removed]",
      "text/plain": [
       "<Figure size 640x480 with 2 Axes>"
      ]
     },
     "metadata": {},
     "output_type": "display_data"
    }
   ],
   "source": [
    "import numpy as np\n",
    "import pandas as pd\n",
    "from sklearn.metrics import confusion_matrix, ConfusionMatrixDisplay, accuracy_score, f1_score\n",
    "from sklearn.model_selection import train_test_split\n",
    "from sklearn.neighbors import NearestNeighbors\n",
    "from matplotlib import pyplot as plt\n",
    "import time\n",
    "\n",
    "#Hyperparameters#\n",
    "N_NEIGHBORS = 100\n",
    "LOCAL_OUTLIER_FACTOR_THRESHOLD = 4\n",
    "#################\n",
    "\n",
    "class LocalOutlierFactor:\n",
    "    def __init__(self, n_neighbors=N_NEIGHBORS,local_outlier_factor_threshold = LOCAL_OUTLIER_FACTOR_THRESHOLD, eps = 1E-30):\n",
    "        self.n_neighbors = n_neighbors\n",
    "        self.local_outlier_factor_threshold = local_outlier_factor_threshold\n",
    "        self.eps = eps\n",
    "        self.neighbors = NearestNeighbors(n_neighbors=self.n_neighbors + 1) # one additional neighbor for finding the k neighbors of points in the training dataset excluding itself \n",
    "    \n",
    "    def fit(self, train_oneclassdata):\n",
    "        self.train_oneclassdata = np.unique(train_oneclassdata, axis=0)\n",
    "        self.neighbors.fit(self.train_oneclassdata)\n",
    "        self.k_distance_list = self.k_distance_and_indices(self.train_oneclassdata,withinDataset=True)[0][:,-1]\n",
    "        self.neighborhood_density_list = self.calculate_neighborhood_density(self.train_oneclassdata)\n",
    "        return self\n",
    "    \n",
    "    def k_distance_and_indices(self, X, withinDataset = False):\n",
    "        distances, indices = self.neighbors.kneighbors(X)\n",
    "        if(withinDataset):\n",
    "            return distances[:,1:], indices[:,1:]\n",
    "        else:\n",
    "            return distances[:,:-1],indices[:,:-1]\n",
    "    \n",
    "    def calculate_neighborhood_density(self,X):\n",
    "        k_distances, k_nearest_neighbours = self.k_distance_and_indices(X)\n",
    "        k_d_reach =  np.maximum(k_distances,self.k_distance_list[k_nearest_neighbours])\n",
    "        neighborhood_density = (self.n_neighbors * 1.0)/(np.sum(k_d_reach,axis=-1)+self.eps)        \n",
    "        return neighborhood_density\n",
    "    \n",
    "    def calculate_local_outlier_factor(self, X):\n",
    "        neighbors = self.k_distance_and_indices(X)[1]\n",
    "        neighborhood_density = self.calculate_neighborhood_density(X)\n",
    "        localOutlierFactor = np.mean(self.neighborhood_density_list[neighbors],axis=-1)/neighborhood_density\n",
    "        return localOutlierFactor\n",
    "        \n",
    "    def predict(self,X):\n",
    "        return self.calculate_local_outlier_factor(X) > self.local_outlier_factor_threshold\n",
    "    \n",
    "        \n",
    "if __name__ == '__main__':\n",
    "    df = pd.read_csv('http.csv')\n",
    "    time_start = time.time()   \n",
    "    trainx, testx, trainy, testy = train_test_split(df.drop(['attack'], axis=1).values, df['attack'].values, test_size=0.2)\n",
    "    localOutlierFactorClassifier = LocalOutlierFactor().fit(trainx[trainy == 0])\n",
    "    \n",
    "    #prediction\n",
    "    testy_pred = localOutlierFactorClassifier.predict(testx)\n",
    "    \n",
    "    #show confusion matrix to check directional accuracy\n",
    "    cm = confusion_matrix(testy>0, testy_pred>0)\n",
    "    disp = ConfusionMatrixDisplay(confusion_matrix=cm,display_labels=['Inlier','Outlier'])\n",
    "    disp.plot()\n",
    "    print(\"Outlier predictions:\",np.sum(testy_pred>0))\n",
    "    print(\"Inlier predictions:\",np.sum(testy_pred<=0))\n",
    "    print(\"Outlier actuals:\",np.sum(testy>0))\n",
    "    print(\"Inlier actuals:\",np.sum(testy<=0))\n",
    "    print(f'Accuracy score: {accuracy_score(testy>0, testy_pred>0) :>.3%}')\n",
    "    print(f'F1 score: {f1_score(testy>0, testy_pred>0) :>.3}')\n",
    "    time_end = time.time()\n",
    "    print(\"Time taken:\",time_end-time_start)\n",
    "    plt.show()\n",
    "    "
   ]
  },
  {
   "cell_type": "code",
   "execution_count": 25,
   "metadata": {},
   "outputs": [
    {
     "data": {
      "text/plain": [
       "0"
      ]
     },
     "execution_count": 25,
     "metadata": {},
     "output_type": "execute_result"
    }
   ],
   "source": [
    "    def __init__(self, n_neighbors=N_NEIGHBORS,local_outlier_factor_threshold = LOCAL_OUTLIER_FACTOR_THRESHOLD, eps = 1E-30):\n",
    "        self.n_neighbors = n_neighbors\n",
    "        self.local_outlier_factor_threshold = local_outlier_factor_threshold\n",
    "        self.eps = eps\n",
    "       \n",
    "    \n",
    "    def fit(self, train_oneclassdata):\n",
    "        self.max_dup_freq = np.max((np.unique(train_oneclassdata,axis=0,return_counts=True)[1]))\n",
    "        print(self.max_dup_freq)\n",
    "        self.neighbors = NearestNeighbors(n_neighbors=self.n_neighbors + self.max_dup_freq - 1)\n",
    "        print(self.n_neighbors + self.max_dup_freq - 1)\n",
    "        self.train_oneclassdata = train_oneclassdata\n",
    "        self.neighbors.fit(self.train_oneclassdata)\n",
    "        self.k_distance_list = self.k_distance_and_indices(self.train_oneclassdata)[0][:,-1]\n",
    "        self.neighborhood_density_list = self.calculate_neighborhood_density(self.train_oneclassdata)\n",
    "        return self\n",
    "    \n",
    "    def k_distance_and_indices(self, X):\n",
    "        distances, indices = self.neighbors.kneighbors(X)\n",
    "        print(distances.shape,indices.shape)\n",
    "        print(np.max(np.sum(distances != 0, axis=1)))\n",
    "        startindex = np.argmax(distances != 0., axis=-1)\n",
    "        global tmp2\n",
    "        tmp2 = startindex\n",
    "        rows = np.arange(len(distances))\n",
    "        columns = startindex[:, np.newaxis] + np.arange(self.n_neighbors)\n",
    "        print(columns.shape)\n",
    "        global tmp\n",
    "        tmp = columns\n",
    "        distances = distances[rows[:, np.newaxis], columns]\n",
    "        indices = indices[rows[:, np.newaxis], columns]\n",
    "\n",
    "        return distances, indices"
   ]
  }
 ],
 "metadata": {
  "kernelspec": {
   "display_name": "MachineLearning",
   "language": "python",
   "name": "python3"
  },
  "language_info": {
   "codemirror_mode": {
    "name": "ipython",
    "version": 3
   },
   "file_extension": ".py",
   "mimetype": "text/x-python",
   "name": "python",
   "nbconvert_exporter": "python",
   "pygments_lexer": "ipython3",
   "version": "3.12.2"
  }
 },
 "nbformat": 4,
 "nbformat_minor": 2
}
